{
 "cells": [
  {
   "cell_type": "markdown",
   "id": "0785f6fc",
   "metadata": {},
   "source": [
    "# GrobidClient Interactive Playground\n",
    "\n",
    "This notebook demonstrates how to use `grobid-client-python` to process a PDF and extract its fulltext XML output."
   ]
  },
  {
   "cell_type": "code",
   "execution_count": 2,
   "id": "20906745",
   "metadata": {},
   "outputs": [],
   "source": [
    "# Import Required Libraries\n",
    "import sys\n",
    "from grobid_client.grobid_client import GrobidClient"
   ]
  },
  {
   "cell_type": "code",
   "execution_count": 7,
   "id": "5f0c378a",
   "metadata": {},
   "outputs": [
    {
     "name": "stdout",
     "output_type": "stream",
     "text": [
      "GROBID server is up and running\n"
     ]
    }
   ],
   "source": [
    "# Initialize GrobidClient\n",
    "client = GrobidClient(grobid_server=\"http://localhost:8070\", config_path=\"/home/jakub/Projects/paper_testing/config.json\")  # use Docker container URL"
   ]
  },
  {
   "cell_type": "code",
   "execution_count": 8,
   "id": "09228227",
   "metadata": {},
   "outputs": [
    {
     "name": "stdout",
     "output_type": "stream",
     "text": [
      "Processing of /home/jakub/Projects/paper_testing/documents_to_test/pdfs/1-s2.0-S0747563221004325-main.pdf failed with error 500 , [NO_BLOCKS] PDF parsing resulted in empty content\n",
      "Processing of /home/jakub/Projects/paper_testing/documents_to_test/pdfs/2025.06.13.25329541v2.full.pdf failed with error 408 , None\n",
      "Processing of /home/jakub/Projects/paper_testing/documents_to_test/pdfs/jmir-2020-10-e17757.pdf failed with error 408 , None\n",
      "Processing of /home/jakub/Projects/paper_testing/documents_to_test/pdfs/kelders-et-al-2024-what-does-it-mean-to-be-engaged-with-digital-health-interventions-a-qualitative-study-into-the.pdf failed with error 408 , None\n"
     ]
    }
   ],
   "source": [
    "# Process PDF to Extract Fulltext\n",
    "pdf_path = \"/home/jakub/Projects/paper_testing/documents_to_test\"  # Change this to your PDF file\n",
    "output_dir = \"output\"  # Output directory for results\n",
    "\n",
    "result = client.process(\"processFulltextDocument\", pdf_path, output=output_dir, consolidate_citations=True, tei_coordinates=True, force=True, include_raw_citations=True, include_raw_affiliations=True)"
   ]
  },
  {
   "cell_type": "markdown",
   "id": "aee52310",
   "metadata": {},
   "source": [
    "**Note:** grobid parsing failed for 1-s2.0-S0747563221004325-main.pdf, marking it as a damaged pdf"
   ]
  },
  {
   "cell_type": "code",
   "execution_count": 27,
   "id": "45ccef22",
   "metadata": {},
   "outputs": [
    {
     "name": "stdout",
     "output_type": "stream",
     "text": [
      "GROBID output saved to: None\n"
     ]
    }
   ],
   "source": [
    "# Display Output Path\n",
    "print(f\"GROBID output saved to: {result}\")"
   ]
  }
 ],
 "metadata": {
  "kernelspec": {
   "display_name": "venv",
   "language": "python",
   "name": "python3"
  },
  "language_info": {
   "codemirror_mode": {
    "name": "ipython",
    "version": 3
   },
   "file_extension": ".py",
   "mimetype": "text/x-python",
   "name": "python",
   "nbconvert_exporter": "python",
   "pygments_lexer": "ipython3",
   "version": "3.13.5"
  }
 },
 "nbformat": 4,
 "nbformat_minor": 5
}
