{
 "cells": [
  {
   "cell_type": "markdown",
   "id": "0785f6fc",
   "metadata": {},
   "source": [
    "# GrobidClient Interactive Playground\n",
    "\n",
    "This notebook demonstrates how to use `grobid-client-python` to process a PDF and extract its fulltext XML output."
   ]
  },
  {
   "cell_type": "code",
   "execution_count": 13,
   "id": "20906745",
   "metadata": {},
   "outputs": [],
   "source": [
    "# Import Required Libraries\n",
    "import sys\n",
    "from grobid_client.grobid_client import GrobidClient"
   ]
  },
  {
   "cell_type": "code",
   "execution_count": 14,
   "id": "5f0c378a",
   "metadata": {},
   "outputs": [
    {
     "name": "stdout",
     "output_type": "stream",
     "text": [
      "GROBID server is up and running\n"
     ]
    }
   ],
   "source": [
    "# Initialize GrobidClient\n",
    "client = GrobidClient(config_path=\"/home/jakub/Projects/paper_testing/config.json\")  # use Docker container URL"
   ]
  },
  {
   "cell_type": "code",
   "execution_count": null,
   "id": "09228227",
   "metadata": {},
   "outputs": [],
   "source": [
    "# Process PDF to Extract Fulltext\n",
    "pdf_path = \"/home/jakub/Projects/paper_testing/documents_to_test/pdfs/fake\"  # Change this to your PDF file\n",
    "output_dir = \"output\"  # Output directory for results\n",
    "\n",
    "result = client.process(\"processFulltextDocument\", pdf_path, n=20, consolidate_citations=True, tei_coordinates=True, include_raw_citations=True, include_raw_affiliations=True, verbose=True, output=output_dir)"
   ]
  },
  {
   "cell_type": "code",
   "execution_count": 4,
   "id": "45ccef22",
   "metadata": {},
   "outputs": [
    {
     "name": "stdout",
     "output_type": "stream",
     "text": [
      "GROBID output saved to: None\n"
     ]
    }
   ],
   "source": [
    "# Display Output Path\n",
    "print(f\"GROBID output saved to: {result}\")"
   ]
  }
 ],
 "metadata": {
  "kernelspec": {
   "display_name": "venv",
   "language": "python",
   "name": "python3"
  },
  "language_info": {
   "codemirror_mode": {
    "name": "ipython",
    "version": 3
   },
   "file_extension": ".py",
   "mimetype": "text/x-python",
   "name": "python",
   "nbconvert_exporter": "python",
   "pygments_lexer": "ipython3",
   "version": "3.13.5"
  }
 },
 "nbformat": 4,
 "nbformat_minor": 5
}
